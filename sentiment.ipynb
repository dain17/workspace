{
 "cells": [
  {
   "cell_type": "code",
   "execution_count": 13,
   "metadata": {},
   "outputs": [],
   "source": [
    "# w2v_model = '/Users/iijima.s.ad/git/JASen/word2vec_100.txt'\n",
    "w2v_model = '/Users/iijima.s.ad/git/JASen/drones_word2vec_100.txt'\n",
    "article_folder_path = '/Users/iijima.s.ad/git/article-extractor/articles/fox/drones/*/'"
   ]
  },
  {
   "cell_type": "code",
   "execution_count": 3,
   "metadata": {},
   "outputs": [],
   "source": [
    "from gensim.models import KeyedVectors\n",
    "\n",
    "model = KeyedVectors.load_word2vec_format(w2v_model, binary=False)"
   ]
  },
  {
   "cell_type": "code",
   "execution_count": 26,
   "metadata": {},
   "outputs": [],
   "source": [
    "import numpy as np\n",
    "\n",
    "positive = ['good', 'great', 'nice', 'excellent', 'perfect']\n",
    "negative = ['bad', 'terrible', 'horrible', 'disappointed', 'awful']\n",
    "\n",
    "positive_vector = np.average([model[w] for w in positive if w in model], axis=0)\n",
    "negative_vector = np.average([model[w] for w in negative if w in model], axis=0)\n"
   ]
  },
  {
   "cell_type": "code",
   "execution_count": 11,
   "metadata": {},
   "outputs": [],
   "source": [
    "import spacy\n",
    "#loading the english language small model of spacy\n",
    "en = spacy.load('en_core_web_sm')\n",
    "stopwords = en.Defaults.stop_words"
   ]
  },
  {
   "cell_type": "code",
   "execution_count": 22,
   "metadata": {},
   "outputs": [],
   "source": [
    "import numpy as np\n",
    "\n",
    "def cos_sim(v1, v2):\n",
    "    return np.dot(v1, v2) / (np.linalg.norm(v1) * np.linalg.norm(v2))"
   ]
  },
  {
   "cell_type": "code",
   "execution_count": 27,
   "metadata": {},
   "outputs": [],
   "source": [
    "import glob\n",
    "import os\n",
    "import numpy as np\n",
    "\n",
    "article_sentiments = []\n",
    "\n",
    "article_folders = glob.glob(article_folder_path)\n",
    "for folder in article_folders:\n",
    "    if not os.path.exists(os.path.join(folder, 'comments.json')):\n",
    "        continue\n",
    "\n",
    "    with open(os.path.join(folder, 'comments.json'), 'r') as f:\n",
    "        sentences = f.readlines()\n",
    "\n",
    "    if len(sentences) < 10:\n",
    "        continue\n",
    "\n",
    "    text = [model[word] for sentence in sentences for word in sentence.strip().split() if word in model and word not in stopwords]\n",
    "    \n",
    "    article_sentiments.append(cos_sim(np.average(text, axis=0), negative_vector))"
   ]
  },
  {
   "cell_type": "code",
   "execution_count": 30,
   "metadata": {},
   "outputs": [
    {
     "data": {
      "text/plain": [
       "0.42422894"
      ]
     },
     "execution_count": 30,
     "metadata": {},
     "output_type": "execute_result"
    }
   ],
   "source": [
    "max(article_sentiments)"
   ]
  },
  {
   "cell_type": "code",
   "execution_count": 54,
   "metadata": {},
   "outputs": [
    {
     "name": "stdout",
     "output_type": "stream",
     "text": [
      "[('unsurpassable', 1.0), ('balmy', 1.0), ('good', 1.0), ('estimable', 1.0), ('mean', 1.0), ('homologic', 1.0), ('like', 1.0), ('sensational', 1.0), ('excellent', 1.0), ('top-flight', 1.0), ('admirability', 1.0), ('love', 1.0), ('praise', 1.0), ('happiness', 1.0), ('first-rater', 1.0), ('research_worker', 1.0), ('bliss', 1.0), ('veracious', 0.875), ('clean', 0.875), ('better', 0.875), ('aesthetic', 0.875), ('altruistic', 0.875), ('perked_up', 0.875), ('attractive', 0.875), ('engaging', 0.875), ('fortunate', 0.875), ('gracious', 0.875), ('formidable', 0.875), ('pretty', 0.875), ('benign', 0.875), ('brilliant', 0.875), ('solid', 0.875), ('diffident', 0.875), ('exhaustive', 0.875), ('constructive', 0.875), ('courteous', 0.875), ('uncivil', 0.875), ('fabulous', 0.875), ('incumbent', 0.875), ('blessed', 0.875), ('decent', 0.875), ('gladdened', 0.875), ('dignified', 0.875), ('discerning', 0.875), ('firm', 0.875), ('bounden', 0.875), ('incumbent_on', 0.875), ('disenchanted', 0.875), ('admirable', 0.875), ('quaint', 0.875), ('happy', 0.875), ('worthy', 0.875), ('kind', 0.875), ('better_off', 0.875), ('lucky', 0.875), ('divine', 0.875), ('bang-up', 0.875), ('good_enough', 0.875), ('superb', 0.875), ('goody-goody', 0.875), ('gainly', 0.875), ('curative', 0.875), ('healthy', 0.875), ('flushed', 0.875), ('amicable', 0.875), ('jesting', 0.875), ('important', 0.875), ('amazing', 0.875), ('intellectual', 0.875), ('legendary', 0.875), ('righteous', 0.875), ('charming', 0.875), ('nice', 0.875), ('dignifying', 0.875), ('childlike', 0.875), ('idealized', 0.875), ('idyllic', 0.875), ('sweet', 0.875), ('reputable', 0.875), ('respected', 0.875), ('answerable', 0.875), ('straightarrow', 0.875), ('majestic', 0.875), ('banner', 0.875), ('boss', 0.875), ('greatest', 0.875), ('spiffing', 0.875), ('virtuous', 0.875), ('jest', 0.875), ('music', 0.875), ('worship', 0.875), ('courtesy', 0.875), ('props', 0.875), ('filigree', 0.875), ('suit', 0.875), ('vest', 0.875), ('character', 0.875), ('good_nature', 0.875), ('bluffness', 0.875), ('picturesqueness', 0.875), ('comeliness', 0.875), ('fineness', 0.875), ('wholesomeness', 0.875), ('nutritiousness', 0.875), ('healthfulness', 0.875), ('elegance', 0.875), ('tastefulness', 0.875), ('urbanity', 0.875), ('morality', 0.875), ('honorableness', 0.875), ('integrity', 0.875), ('decency', 0.875), ('dedication', 0.875), ('judiciousness', 0.875), ('modesty', 0.875), ('crispness', 0.875), ('dazzle', 0.875), ('radiance', 0.875), ('benefit', 0.875), ('profit', 0.875), ('account', 0.875), ('essentiality', 0.875), ('injudiciousness', 0.875), ('divination', 0.875), ('bonheur', 0.875), ('good_humor', 0.875), ('ma', 0.875), ('eminence', 0.875), ('admiringly', 0.875), ('make', 0.875), ('feel_like_a_million', 0.875), ('think_the_world_of', 0.875), ('agree', 0.875), ('amuse', 0.875), ('pacify', 0.875), ('prefer', 0.875), ('ennoble', 0.875), ('grace', 0.778), ('deserts', 0.778), ('direct', 0.75), ('ideal', 0.75), ('complaisant', 0.75), ('hot', 0.75), ('competent', 0.75), ('coherent', 0.75), ('adoptable', 0.75), ('gilt-edged', 0.75), ('plus', 0.75), ('disadvantageous', 0.75), ('audacious', 0.75), ('well', 0.75), ('unaffected', 0.75), ('superior', 0.75), ('plummy', 0.75), ('affirmative', 0.75), ('proper', 0.75), ('due', 0.75), ('bright', 0.75), ('golden', 0.75), ('constitutional', 0.75), ('beautiful', 0.75), ('bonny', 0.75), ('gorgeous', 0.75), ('picturesque', 0.75), ('ravishing', 0.75), ('stunning', 0.75), ('beneficent', 0.75), ('benefic', 0.75), ('best', 0.75), ('high-grade', 0.75), ('finer', 0.75), ('white', 0.75), ('gallant', 0.75), ('beaming', 0.75), ('thorough', 0.75), ('cautious', 0.75), ('definite', 0.75), ('self-assured', 0.75), ('cheerful', 0.75), ('antiseptic', 0.75), ('halal', 0.75), ('kosher', 0.75), ('intimate', 0.75), ('comfortable', 0.75), ('comparable_to', 0.75), ('congenial', 0.75), ('harmonious', 0.75), ('workmanlike', 0.75), ('sacred', 0.75), ('accomplished', 0.75), ('full-blown', 0.75), ('hearty', 0.75), ('sound', 0.75), ('sociable', 0.75), ('conspicuous', 0.75), ('outstanding', 0.75), ('discernible', 0.75), ('differentiable', 0.75), ('constant', 0.75), ('reconstructive', 0.75), ('favorable', 0.75), ('conventional', 0.75), ('incorrupt', 0.75), ('corn-fed', 0.75), ('mannerly', 0.75), ('pivotal', 0.75), ('indecent', 0.75), ('decorous', 0.75), ('in_good_taste', 0.75), ('sedate', 0.75), ('delicate', 0.75), ('dainty', 0.75), ('exigent', 0.75), ('importunate', 0.75), ('delectable', 0.75), ('preferable', 0.75), ('finished', 0.75), ('kept_up', 0.75), ('infra_dig', 0.75), ('devious', 0.75), ('bluff', 0.75), ('discriminating', 0.75), ('expendable', 0.75), ('submissive', 0.75), ('bowed', 0.75), ('meek', 0.75), ('cringing', 0.75), ('drinkable', 0.75), ('incisive', 0.75), ('metal-cutting', 0.75), ('bouncing', 0.75), ('bubbling', 0.75), ('propellant', 0.75), ('deluxe', 0.75), ('soigne', 0.75), ('confirmable', 0.75), ('exportable', 0.75), ('hyperbolic', 0.75), ('enlightened', 0.75), ('glowing', 0.75), ('basal', 0.75), ('ethical', 0.75), ('perfect', 0.75), ('exchangeable', 0.75), ('extricable', 0.75), ('honest', 0.75), ('meticulous', 0.75), ('fat', 0.75), ('indulgent', 0.75), ('felicitous', 0.75), ('fecund', 0.75), ('fit', 0.75), ('heaven-sent', 0.75), ('fragrant', 0.75), ('pleasant-smelling', 0.75), ('goodish', 0.75), ('evil', 0.75), ('good-natured', 0.75), ('amiable', 0.75), ('merciful', 0.75), ('ungracious', 0.75), ('healthful', 0.75), ('anthelmintic', 0.75), ('preventive', 0.75), ('unhealthful', 0.75), ('hale', 0.75), ('well-preserved', 0.75), ('ambrosial', 0.75), ('gay', 0.75), ('upper', 0.75), ('downright', 0.75), ('honorable', 0.75), ('laureate', 0.75), ('droll', 0.75), ('all-important', 0.75), ('great', 0.75), ('measurable', 0.75), ('highbrow', 0.75), ('sophisticated', 0.75), ('inviting', 0.75), ('uninviting', 0.75), ('gladsome', 0.75), ('gentle', 0.75), ('transcendent', 0.75), ('epic', 0.75), ('elfin', 0.75), ('microscopic', 0.75), ('promising', 0.75), ('likable', 0.75), ('loving', 0.75), ('amative', 0.75), ('enamored', 0.75), ('supreme', 0.75), ('singable', 0.75), ('moralistic', 0.75), ('licit', 0.75), ('principled', 0.75), ('pleasant', 0.75), ('contrary', 0.75), ('savory', 0.75)]\n"
     ]
    }
   ],
   "source": [
    "from nltk.corpus import sentiwordnet as swn\n",
    "import numpy as np\n",
    "\n",
    "senti_word_dict = {}\n",
    "\n",
    "for ss in swn.all_senti_synsets():\n",
    "    word = ss.synset.name().split('.')[0]\n",
    "    if word in senti_word_dict:\n",
    "        senti_word_dict[word].append(ss.pos_score())\n",
    "    else:\n",
    "        senti_word_dict[word] = [ ss.pos_score() ]\n",
    "\n",
    "senti_synsets = sorted([(word, np.max(pos_scores)) for word, pos_scores in senti_word_dict.items()], key=lambda t: t[1], reverse=True)\n",
    "print(senti_synsets[:300])"
   ]
  },
  {
   "cell_type": "code",
   "execution_count": null,
   "metadata": {},
   "outputs": [],
   "source": [
    "from nltk.corpus import sentiwordnet as swn\n",
    "import numpy as np\n",
    "\n",
    "senti_word_dict = {}\n",
    "\n",
    "for ss in swn.all_senti_synsets():\n",
    "    word = ss.synset.name().split('.')[0]\n",
    "    if word in senti_word_dict:\n",
    "        senti_word_dict[word].append(ss.neg_score())\n",
    "    else:\n",
    "        senti_word_dict[word] = [ ss.neg_score() ]\n",
    "\n",
    "senti_synsets = sorted([(word, np.max(neg_scores)) for word, neg_scores in senti_word_dict.items()], key=lambda t: t[1], reverse=True)\n",
    "print(senti_synsets[:300])"
   ]
  },
  {
   "cell_type": "code",
   "execution_count": 30,
   "metadata": {},
   "outputs": [
    {
     "name": "stdout",
     "output_type": "stream",
     "text": [
      "illegal.a.01 0.0\n"
     ]
    }
   ],
   "source": [
    "for ss in swn.senti_synsets('illegal'):\n",
    "    print(ss.synset.name(), ss.neg_score())"
   ]
  },
  {
   "cell_type": "code",
   "execution_count": 47,
   "metadata": {},
   "outputs": [
    {
     "name": "stdout",
     "output_type": "stream",
     "text": [
      "bad 0.3001 0.3142 0.2338 0.0093 0.0293 0.2372 0.0167 0.0203 0.0096 5805\n",
      "terrible 0.3290 0.3333 0.2329 0.0131 0.0175 0.2737 0.0131 0.0160 0.0116 687\n",
      "horrible 0.3025 0.2810 0.2314 0.0066 0.0165 0.2397 0.0066 0.0231 0.0099 605\n",
      "disappointed 0.3237 0.3353 0.2370 0.0173 0.0173 0.1618 0.0116 0.0173 0.0116 173\n",
      "awful 0.3543 0.3687 0.2338 0.0108 0.0162 0.2338 0.0180 0.0198 0.0018 556\n",
      "ugly 0.2527 0.2310 0.1805 0.0072 0.0325 0.1336 0.0108 0.0217 0.0036 277\n",
      "miserable 0.3721 0.3372 0.2733 0.0233 0.0640 0.2209 0.0000 0.0174 0.0058 172\n",
      "negative 0.3249 0.3655 0.2538 0.0102 0.0288 0.1895 0.0135 0.0321 0.0152 591\n",
      "fearful 0.5476 0.5238 0.3571 0.0476 0.0476 0.2381 0.0000 0.0238 0.0238 42\n",
      "harsh 0.2476 0.3143 0.3048 0.0190 0.0190 0.2762 0.0000 0.0000 0.0286 105\n",
      "angry 0.3772 0.3293 0.2874 0.0060 0.0220 0.1617 0.0180 0.0200 0.0080 501\n",
      "resentful 0.0000 0.5000 0.2500 0.0000 0.0000 0.0000 0.0000 0.0000 0.2500 4\n",
      "improper 0.4058 0.5652 0.1739 0.0000 0.0290 0.2174 0.0435 0.0290 0.0000 69\n",
      "ill 0.3003 0.3260 0.2604 0.0102 0.0308 0.2395 0.0164 0.0229 0.0090 69151\n",
      "upset 0.3574 0.3537 0.2667 0.0019 0.0278 0.2222 0.0167 0.0259 0.0056 540\n",
      "humble 0.4167 0.3167 0.2833 0.0167 0.0167 0.3667 0.0833 0.0500 0.0500 60\n",
      "deny 0.3478 0.3986 0.3551 0.0145 0.0380 0.2283 0.0163 0.0308 0.0199 552\n",
      "fear 0.3274 0.3962 0.2920 0.0136 0.0442 0.2471 0.0170 0.0272 0.0150 1469\n",
      "unfriendly 0.3500 0.3000 0.2500 0.0000 0.1000 0.4500 0.0000 0.0000 0.0000 20\n",
      "evil 0.3162 0.3048 0.3168 0.0078 0.0329 0.2563 0.0156 0.0269 0.0198 1670\n"
     ]
    }
   ],
   "source": [
    "words = ['bad', 'terrible', 'horrible', 'disappointed', 'awful', 'ugly', 'miserable', 'negative', 'fearful', 'harsh', 'angry', 'resentful', 'improper', 'ill', 'upset', 'humble', 'deny', 'fear', 'unfriendly', 'evil']\n",
    "tags = ['[[PERSON]]', '[[ORG]]', '[[NORP]]', '[[FAC]]', '[[LOC]]', '[[GPE]]', '[[PRODUCT]]', '[[WORK_OF_ART]]', '[[EVENT]]']\n",
    "\n",
    "word_count = {w:[[0 for t in tags], 0] for w in words}\n",
    "\n",
    "with open('articles/fox/ner_train3.txt') as f:\n",
    "    for line in f.readlines():\n",
    "        for word, count in word_count.items():\n",
    "            if word in line:\n",
    "                count[1] += 1\n",
    "                for i, t in enumerate(tags):\n",
    "                    if t in line:\n",
    "                        count[0][i] += 1\n",
    "\n",
    "# sorted_words = sorted([(w, c[0], c[1])for w, c in word_count.items()], key=lambda t: t[1] / t[2] if t[2] > 0 else 0, reverse=True)\n",
    "for word, counts in word_count.items():\n",
    "    print(word, end=' ')\n",
    "    for e in counts[0]:\n",
    "        print(f'{e / counts[1] if counts[1] > 0 else 0:.4f}', end=' ')\n",
    "    print(counts[1])\n",
    "\n",
    "#horrible ugly miserable fearful angry upset humble\n",
    "    "
   ]
  },
  {
   "cell_type": "code",
   "execution_count": 56,
   "metadata": {},
   "outputs": [
    {
     "name": "stdout",
     "output_type": "stream",
     "text": [
      "good 0.2630 0.2773 0.2057 0.0084 0.0229 0.2218 0.0153 0.0208 0.0071 13825\n",
      "love 0.3021 0.2853 0.2523 0.0098 0.0249 0.2164 0.0219 0.0229 0.0086 5022\n",
      "better 0.2872 0.3203 0.2415 0.0092 0.0286 0.2417 0.0200 0.0228 0.0083 7194\n",
      "pretty 0.2734 0.2974 0.1980 0.0093 0.0324 0.1988 0.0240 0.0275 0.0080 2253\n",
      "fabulous 0.2500 0.3333 0.1667 0.0000 0.0833 0.1389 0.0556 0.0000 0.0000 36\n",
      "happy 0.2742 0.2546 0.2356 0.0065 0.0268 0.2212 0.0118 0.0124 0.0105 1528\n",
      "superb 0.1667 0.1667 0.2500 0.0000 0.0000 0.0833 0.0000 0.0000 0.0000 12\n",
      "amazing 0.2466 0.2816 0.1956 0.0076 0.0396 0.1743 0.0205 0.0236 0.0084 1314\n",
      "nice 0.2494 0.2576 0.1770 0.0086 0.0336 0.1875 0.0177 0.0182 0.0082 2085\n",
      "greatest 0.3312 0.3412 0.3137 0.0200 0.0563 0.3725 0.0150 0.0238 0.0350 800\n",
      "brilliant 0.3269 0.3139 0.2104 0.0259 0.0485 0.2265 0.0518 0.0324 0.0097 309\n",
      "great 0.2942 0.2917 0.2163 0.0120 0.0358 0.2609 0.0163 0.0233 0.0140 7906\n",
      "prefer 0.2617 0.3328 0.2811 0.0081 0.0388 0.2456 0.0145 0.0307 0.0065 619\n",
      "decent 0.2845 0.3343 0.2346 0.0029 0.0205 0.2287 0.0176 0.0235 0.0088 341\n",
      "worthy 0.2931 0.4236 0.2143 0.0123 0.0197 0.2217 0.0099 0.0222 0.0074 406\n",
      "perfect 0.3174 0.3467 0.2504 0.0092 0.0394 0.2462 0.0218 0.0302 0.0084 1194\n",
      "healthy 0.2420 0.2536 0.1166 0.0087 0.0321 0.1545 0.0233 0.0117 0.0029 343\n",
      "courteous 0.1000 0.3000 0.1000 0.0000 0.0000 0.2000 0.0000 0.0000 0.0000 10\n",
      "charming 0.1667 0.3333 0.1667 0.0000 0.0000 0.1667 0.0000 0.1667 0.0000 6\n"
     ]
    }
   ],
   "source": [
    "words = ['good', 'love', 'better', 'pretty', 'fabulous', 'happy', 'superb', 'amazing', 'nice', 'greatest', 'brilliant', 'great', 'prefer', 'decent', 'worthy', 'perfect', 'healthy', 'courteous', 'happy', 'charming']\n",
    "tags = ['[[PERSON]]', '[[ORG]]', '[[NORP]]', '[[FAC]]', '[[LOC]]', '[[GPE]]', '[[PRODUCT]]', '[[WORK_OF_ART]]', '[[EVENT]]']\n",
    "\n",
    "word_count = {w:[[0 for t in tags], 0] for w in words}\n",
    "\n",
    "with open('articles/fox/ner_train3.txt') as f:\n",
    "    for line in f.readlines():\n",
    "        for word, count in word_count.items():\n",
    "            if word in line:\n",
    "                count[1] += 1\n",
    "                for i, t in enumerate(tags):\n",
    "                    if t in line:\n",
    "                        count[0][i] += 1\n",
    "\n",
    "# sorted_words = sorted([(w, c[0], c[1])for w, c in word_count.items()], key=lambda t: t[1] / t[2] if t[2] > 0 else 0, reverse=True)\n",
    "for word, counts in word_count.items():\n",
    "    print(word, end=' ')\n",
    "    for e in counts[0]:\n",
    "        print(f'{e / counts[1] if counts[1] > 0 else 0:.4f}', end=' ')\n",
    "    print(counts[1])\n",
    "    \n",
    "# great brilliant happy love"
   ]
  },
  {
   "cell_type": "code",
   "execution_count": 136,
   "metadata": {},
   "outputs": [],
   "source": [
    "# commentのpredictionの結果からアスペクトとの関連をPERSONのみ確認する\n",
    "import re\n",
    "import glob\n",
    "\n",
    "def trim_s(word):\n",
    "    return word[:-2] if word[-2:] in (\"'s\", '’s')  else word\n",
    "\n",
    "prediction_file_name = 'prediction.txt'\n",
    "joint_file_name = 'joint_roots.txt'\n",
    "output_aspect_folder = 'person'\n",
    "output_aspect_file = 'roots_aspects.txt'\n",
    "# joint_file_name = 'article_joint.txt'\n",
    "# output_aspect_folder = 'person'\n",
    "# output_aspect_file = 'article_aspects.txt'\n",
    "\n",
    "# tag_dict = {'[[PERSON]]': 0, '[[ORG]]': 1, '[[NORP]]': 1, '[[FAC]]': 2, '[[LOC]]': 2, '[[GPE]]': 2, '[[PRODUCT]]': 3, '[[WORK_OF_ART]]': 3, '[[EVENT]]': 4}\n",
    "for path in glob.glob('/Users/iijima.s.ad/git/article-extractor/articles/fox/*/*/' + prediction_file_name):\n",
    "    aspect_list = []\n",
    "    comment_path = path.replace(prediction_file_name, joint_file_name)\n",
    "    with open(path, 'r') as prediction, open(comment_path, 'r') as comment_file:\n",
    "        for pr, m in zip(prediction.readlines()[1:], re.finditer(r'\\[\\[([^:]+):::(.*?)\\]\\]', comment_file.read())):\n",
    "            aspect, senti = pr.strip().split('\\t')\n",
    "            if m.group(1) == 'PERSON' and aspect == '0':\n",
    "                aspect_list.append(trim_s(m.group(2)) + {'0': '-', '1': '+'}[senti])\n",
    "\n",
    "    aspect_dict = {}\n",
    "    for aspect in aspect_list:\n",
    "        if aspect in aspect_dict:\n",
    "            aspect_dict[aspect] += 1\n",
    "        else:\n",
    "            aspect_dict[aspect] = 1\n",
    "\n",
    "    os.makedirs(path.replace(prediction_file_name, output_aspect_folder), exist_ok = True)\n",
    "    aspect_count = path.replace(prediction_file_name, f'{output_aspect_folder}/{output_aspect_file}')\n",
    "    with open(aspect_count, 'w') as f:\n",
    "        f.writelines([f'{aspect}\\t{count}\\n' for aspect, count in aspect_dict.items()])"
   ]
  },
  {
   "cell_type": "code",
   "execution_count": 73,
   "metadata": {},
   "outputs": [
    {
     "name": "stdout",
     "output_type": "stream",
     "text": [
      "161\n"
     ]
    }
   ],
   "source": [
    "!find /Users/iijima.s.ad/git/article-extractor/articles/fox | grep -c 'prediction.txt'"
   ]
  },
  {
   "cell_type": "code",
   "execution_count": 137,
   "metadata": {},
   "outputs": [],
   "source": [
    "import numpy as np\n",
    "\n",
    "for path in glob.glob('/Users/iijima.s.ad/git/article-extractor/articles/fox/*/*/person/'):\n",
    "    if not os.path.exists(os.path.join(path, 'roots_aspects.txt')) or not os.path.exists(os.path.join(path, 'article_aspects.txt')):\n",
    "        continue\n",
    "\n",
    "    with open(os.path.join(path, 'roots_aspects.txt'), 'r') as f1, open(os.path.join(path, 'article_aspects.txt'), 'r') as f2:\n",
    "        aspect_dict, line1, line2 = {}, f1.readlines(), f2.readlines()\n",
    "\n",
    "        if len(list1) == 0 or len(list2) == 0:\n",
    "            continue\n",
    "\n",
    "        for l in line1 + line2:\n",
    "            aspect_dict[l.split('\\t')[0]] = [0, 0]\n",
    "        for l in line1:\n",
    "            tmp_list = l.strip().split('\\t')\n",
    "            aspect_dict[tmp_list[0]][0] = int(tmp_list[1])\n",
    "        for l in line2:\n",
    "            tmp_list = l.strip().split('\\t')\n",
    "            aspect_dict[tmp_list[0]][1] = int(tmp_list[1])\n",
    "    \n",
    "    list1 = [l[0] for l in aspect_dict.values()]\n",
    "    list2 = [l[1] for l in aspect_dict.values()]\n",
    "    with open(os.path.join(path, 'correlation.txt'), 'w') as f:\n",
    "        f.write(str(np.corrcoef([list1, list2])[0, 1]))"
   ]
  },
  {
   "cell_type": "code",
   "execution_count": 138,
   "metadata": {},
   "outputs": [
    {
     "name": "stdout",
     "output_type": "stream",
     "text": [
      "-0.03749626536181168\n"
     ]
    },
    {
     "data": {
      "text/plain": [
       "(array([30.,  9., 13.,  9., 23., 12., 10.,  3., 11., 34.]),\n",
       " array([-1.        , -0.80432778, -0.60865556, -0.41298333, -0.21731111,\n",
       "        -0.02163889,  0.17403333,  0.36970555,  0.56537777,  0.76105   ,\n",
       "         0.95672222]),\n",
       " <BarContainer object of 10 artists>)"
      ]
     },
     "execution_count": 138,
     "metadata": {},
     "output_type": "execute_result"
    },
    {
     "data": {
      "image/png": "[encoded data removed]",
      "text/plain": [
       "<Figure size 640x480 with 1 Axes>"
      ]
     },
     "metadata": {},
     "output_type": "display_data"
    }
   ],
   "source": [
    "import math\n",
    "import matplotlib.pyplot as plt\n",
    "corr_list = []\n",
    "\n",
    "for path in glob.glob('/Users/iijima.s.ad/git/article-extractor/articles/fox/*/*/person/correlation.txt'):\n",
    "    with open(path, 'r') as f:\n",
    "        coef = f.read().strip()\n",
    "        if coef != 'nan':\n",
    "            corr_list.append(float(coef))\n",
    "\n",
    "print(np.average(corr_list))\n",
    "plt.hist(corr_list)"
   ]
  },
  {
   "cell_type": "code",
   "execution_count": 86,
   "metadata": {},
   "outputs": [
    {
     "name": "stdout",
     "output_type": "stream",
     "text": [
      "193\n"
     ]
    }
   ],
   "source": [
    "!find /Users/iijima.s.ad/git/article-extractor/articles/fox/ | grep -c 'correlation.txt'"
   ]
  },
  {
   "cell_type": "code",
   "execution_count": null,
   "metadata": {},
   "outputs": [],
   "source": []
  }
 ],
 "metadata": {
  "kernelspec": {
   "display_name": "Python 3.9.4 64-bit ('3.9.4')",
   "language": "python",
   "name": "python3"
  },
  "language_info": {
   "codemirror_mode": {
    "name": "ipython",
    "version": 3
   },
   "file_extension": ".py",
   "mimetype": "text/x-python",
   "name": "python",
   "nbconvert_exporter": "python",
   "pygments_lexer": "ipython3",
   "version": "3.9.4"
  },
  "orig_nbformat": 4,
  "vscode": {
   "interpreter": {
    "hash": "ddf81bc3a80e275d0a0be66a828722ecd8b6d7da6398175ac1c4336a544fb459"
   }
  }
 },
 "nbformat": 4,
 "nbformat_minor": 2
}
